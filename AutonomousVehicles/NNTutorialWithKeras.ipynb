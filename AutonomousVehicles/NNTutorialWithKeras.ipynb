{
 "cells": [
  {
   "cell_type": "markdown",
   "metadata": {},
   "source": [
    "# Neural Networks Crash Tutorial - Keras version\n",
    "\n",
    "## Classifying images with Neural Networks\n",
    "\n",
    "This notebook is inspired by lots of tutorials on the web. It's first part uses the same data and shares the same objectives as with:\n",
    "\n",
    "https://www.datacamp.com/community/tutorials/tensorflow-tutorial\n",
    "\n",
    "The data necessary to run this notebook can be downloaded from:\n",
    "\n",
    "http://btsd.ethz.ch/shareddata/\n",
    "\n",
    "Look for the two zip files, `BelgiumTSC_Training.zip` and `BelgiumTSC_Testing.zip` in the section **Anotations** next to the label \"BelgiumTS for Classification (cropped images)\". \n",
    "\n",
    "This notebook assumes that the images will be in a directory named `BelgiumTrafficSigns` with subdirectories `Training` and `Testing`.\n",
    "\n",
    "You will need [jupyter notebook](http://jupyter.org/install.html) and  [tensorflow](https://www.tensorflow.org) to be installed. You will also need the following packages:\n",
    "\n",
    "* numpy\n",
    "* scipy\n",
    "* matplotlib\n",
    "* scikit-image\n",
    "* keras\n",
    "\n",
    "Most if not all of these packages may already be installed for you.\n",
    "\n",
    "### Preliminaries\n",
    "Here are some useful functions:"
   ]
  },
  {
   "cell_type": "code",
   "execution_count": null,
   "metadata": {},
   "outputs": [],
   "source": [
    "import os, skimage.io\n",
    "\n",
    "def load_data(data_directory):\n",
    "    directories = [d for d in os.listdir(data_directory) \n",
    "                   if os.path.isdir(os.path.join(data_directory, d))]\n",
    "    labels = []\n",
    "    images = []\n",
    "    for d in directories:\n",
    "        label_directory = os.path.join(data_directory, d)\n",
    "        file_names = [os.path.join(label_directory, f) \n",
    "                      for f in os.listdir(label_directory) \n",
    "                      if f.endswith(\".ppm\")]\n",
    "        for f in file_names:\n",
    "            images.append(skimage.io.imread(f))\n",
    "            labels.append(int(d))\n",
    "    return images, labels"
   ]
  },
  {
   "cell_type": "code",
   "execution_count": null,
   "metadata": {},
   "outputs": [],
   "source": [
    "def plot_images(images, labels, color_map = \"brg\"):\n",
    "    # Get the unique labels \n",
    "    unique_labels = set(labels)\n",
    "\n",
    "    # Initialize the figure\n",
    "    plt.figure(figsize=(15, 15))\n",
    "\n",
    "    # Set a counter\n",
    "    i = 1\n",
    "\n",
    "    # For each unique label,\n",
    "    for label in unique_labels:\n",
    "        # You pick the first image for each label\n",
    "        image = images[labels.index(label)]\n",
    "        # Define 64 subplots \n",
    "        plt.subplot(8, 8, i)\n",
    "        # Don't include axes\n",
    "        plt.axis('off')\n",
    "        # Add a title to each subplot \n",
    "        plt.title(\"Label {0} ({1})\".format(label, labels.count(label)))\n",
    "        # Add 1 to the counter\n",
    "        i += 1\n",
    "        # And you plot this first image \n",
    "        plt.imshow(image, cmap=color_map)\n",
    "    \n",
    "    # Show the plot\n",
    "    plt.show()"
   ]
  },
  {
   "cell_type": "markdown",
   "metadata": {},
   "source": [
    "### Load training data"
   ]
  },
  {
   "cell_type": "code",
   "execution_count": null,
   "metadata": {},
   "outputs": [],
   "source": [
    "train_data_directory = \"./BelgiumTrafficSigns\"\n",
    "images, labels = load_data(train_data_directory)"
   ]
  },
  {
   "cell_type": "markdown",
   "metadata": {},
   "source": [
    "Plot histogram of labels to see how the images are distributed"
   ]
  },
  {
   "cell_type": "code",
   "execution_count": null,
   "metadata": {},
   "outputs": [],
   "source": [
    "# Import the `pyplot` module of matplotlib\n",
    "import matplotlib.pyplot as plt \n",
    "\n",
    "# Make a histogram with 62 bins of the `labels` data\n",
    "plt.hist(labels, 62)\n",
    "\n",
    "# Show the plot\n",
    "plt.show()"
   ]
  },
  {
   "cell_type": "markdown",
   "metadata": {},
   "source": [
    "Check out some random images and their shapes:"
   ]
  },
  {
   "cell_type": "code",
   "execution_count": null,
   "metadata": {},
   "outputs": [],
   "source": [
    "import random\n",
    "\n",
    "# Determine the (random) indexes of the images that you want to see \n",
    "traffic_signs = random.sample(range(len(images)), 4)\n",
    "\n",
    "# Fill out the subplots with the random images and add shape\n",
    "for i in range(len(traffic_signs)):\n",
    "    plt.subplot(1, 4, i+1)\n",
    "    plt.axis('off')\n",
    "    plt.imshow(images[traffic_signs[i]])\n",
    "    plt.subplots_adjust(wspace=0.5)\n",
    "    plt.show()\n",
    "    print(\"shape: {0}\".format(images[traffic_signs[i]].shape))"
   ]
  },
  {
   "cell_type": "markdown",
   "metadata": {},
   "source": [
    "Plot first sample from each category:"
   ]
  },
  {
   "cell_type": "code",
   "execution_count": null,
   "metadata": {},
   "outputs": [],
   "source": [
    "plot_images(images,labels)"
   ]
  },
  {
   "cell_type": "markdown",
   "metadata": {},
   "source": [
    "### Pre-process images\n",
    "Make images all the same size and resolution"
   ]
  },
  {
   "cell_type": "code",
   "execution_count": null,
   "metadata": {},
   "outputs": [],
   "source": [
    "# Import the `transform` module from `skimage`\n",
    "from skimage import transform \n",
    "\n",
    "# set desired number of pixels\n",
    "px = 32\n",
    "\n",
    "# Rescale the images in the `images` array\n",
    "simages = [transform.resize(image, (px, px), mode='constant') for image in images]"
   ]
  },
  {
   "cell_type": "code",
   "execution_count": null,
   "metadata": {},
   "outputs": [],
   "source": [
    "plot_images(simages,labels)"
   ]
  },
  {
   "cell_type": "markdown",
   "metadata": {},
   "source": [
    "Convert images to gray-scale:"
   ]
  },
  {
   "cell_type": "code",
   "execution_count": null,
   "metadata": {},
   "outputs": [],
   "source": [
    "# Import `rgb2gray` from `skimage.color`\n",
    "from skimage.color import rgb2gray\n",
    "\n",
    "# Convert `simages` to grayscale\n",
    "simagesg = [rgb2gray(img) for img in simages]"
   ]
  },
  {
   "cell_type": "code",
   "execution_count": null,
   "metadata": {},
   "outputs": [],
   "source": [
    "plot_images(simagesg, labels, color_map=\"gray\")"
   ]
  },
  {
   "cell_type": "code",
   "execution_count": null,
   "metadata": {},
   "outputs": [],
   "source": [
    "# Compare image sizes\n",
    "print('original = {}, scaled = {}, grayscale = {}'.format(images[0].shape,simages[0].shape,simagesg[0].shape))"
   ]
  },
  {
   "cell_type": "markdown",
   "metadata": {},
   "source": [
    "### Create the neural network model"
   ]
  },
  {
   "cell_type": "code",
   "execution_count": null,
   "metadata": {},
   "outputs": [],
   "source": [
    "# compatibility hacks\n"
    "from keras import utils as np_utils\n"
    "def predict_classes(model, samples):\n"
    "    return np.argmax(model.predict(samples), axis=1)"
   ]
  },
  {
   "cell_type": "code",
   "execution_count": null,
   "metadata": {},
   "outputs": [],
   "source": [
    "import keras \n",
    "from keras.models import Sequential\n",
    "from keras.layers import Dense, Activation, Flatten, Dropout"
   ]
  },
  {
   "cell_type": "code",
   "execution_count": null,
   "metadata": {},
   "outputs": [],
   "source": [
    "import numpy as np\n"
    "\n"
    "# Convert labels to categorical one-hot encoding\n"
    "one_hot_labels = keras.utils.np_utils.to_categorical(labels, num_classes=62)"
   ]
  },
  {
   "cell_type": "code",
   "execution_count": null,
   "metadata": {},
   "outputs": [],
   "source": [
    "# Convert images to numpy arrays\n",
    "data = np.array(simagesg)\n",
    "\n",
    "data.shape"
   ]
  },
  {
   "cell_type": "code",
   "execution_count": null,
   "metadata": {},
   "outputs": [],
   "source": [
    "gmodel = Sequential()\n",
    "\n",
    "gmodel.add(Flatten(input_shape=data.shape[1:]))\n",
    "gmodel.add(Dense(62, activation='relu'))\n",
    "gmodel.add(Dropout(0.5))\n",
    "gmodel.add(Dense(62, activation='softmax'))"
   ]
  },
  {
   "cell_type": "markdown",
   "metadata": {},
   "source": [
    "### Train the model"
   ]
  },
  {
   "cell_type": "code",
   "execution_count": null,
   "metadata": {},
   "outputs": [],
   "source": [
    "# Multi-class classification problem\n",
    "gmodel.compile(optimizer='adam',\n",
    "              loss='categorical_crossentropy',\n",
    "              metrics=['accuracy'])"
   ]
  },
  {
   "cell_type": "code",
   "execution_count": null,
   "metadata": {},
   "outputs": [],
   "source": [
    "# Train the model, iterating on the data in batches of 32 samples\n",
    "gmodel.fit(data, one_hot_labels, epochs=10, batch_size=32, verbose=1)"
   ]
  },
  {
   "cell_type": "markdown",
   "metadata": {},
   "source": [
    "### Evaluate performance on some samples\n",
    "The goal here is to quickly assess if training worked.\n",
    "\n",
    "A thorough model validation requires much more than simply evaluating some samples from the training data set."
   ]
  },
  {
   "cell_type": "code",
   "execution_count": null,
   "metadata": {},
   "outputs": [],
   "source": [
    "N = 10\n",
    "sample_indexes = random.sample(range(len(data)), N)\n",
    "sample_images = np.array([data[i] for i in sample_indexes])\n",
    "sample_labels = np.array([labels[i] for i in sample_indexes])\n",
    "\n",
    "# Run the \"correct_pred\" operation\n",
    "predicted = predict_classes(gmodel, sample_images)\n",
    "      \n",
    "error, = np.nonzero(sample_labels - predicted)\n",
    "accuracy = 100*(1-error.size/N)\n",
    "    \n",
    "# Print the real and predicted labels\n",
    "print(\"Truth:    \", sample_labels)\n",
    "print(\"Predicted:\", predicted, \"accuracy = {}%\".format(accuracy))"
   ]
  },
  {
   "cell_type": "code",
   "execution_count": null,
   "metadata": {
    "scrolled": true
   },
   "outputs": [],
   "source": [
    "# Display the predictions and the ground truth visually.\n",
    "fig = plt.figure(figsize=(px, px))\n",
    "j = 1\n",
    "for i in range(len(sample_images)):\n",
    "    \n",
    "    truth = sample_labels[i]\n",
    "    prediction = predicted[i]\n",
    "    \n",
    "    predicted_image = data[labels.index(prediction)]\n",
    "\n",
    "    plt.subplot(10, 2, j)\n",
    "    plt.axis('off')\n",
    "    color='green' if truth == prediction else 'red'\n",
    "    plt.text(40, 10, \"Truth:        {0}\\nPrediction: {1}\".format(truth, prediction), fontsize=12, color=color)\n",
    "    plt.imshow(sample_images[i], cmap=\"gray\")\n",
    "\n",
    "    j += 1\n",
    "    \n",
    "    plt.subplot(10, 2, j)\n",
    "    plt.axis('off')\n",
    "    plt.imshow(predicted_image, cmap=\"gray\")\n",
    "\n",
    "    j += 1\n",
    "    \n",
    "# Show the plot\n",
    "plt.show()"
   ]
  },
  {
   "cell_type": "markdown",
   "metadata": {},
   "source": [
    "### Can color improve the results?\n",
    "You will now repeat the process, this time using color images."
   ]
  },
  {
   "cell_type": "code",
   "execution_count": null,
   "metadata": {},
   "outputs": [],
   "source": [
    "# Convert images to numpy arrays\n",
    "data = np.array(simages)\n",
    "\n",
    "data.shape"
   ]
  },
  {
   "cell_type": "code",
   "execution_count": null,
   "metadata": {},
   "outputs": [],
   "source": [
    "cmodel = Sequential()\n",
    "\n",
    "cmodel.add(Flatten(input_shape=data.shape[1:]))\n",
    "cmodel.add(Dense(62, activation='relu'))\n",
    "cmodel.add(Dropout(0.5))\n",
    "cmodel.add(Dense(62, activation='softmax'))"
   ]
  },
  {
   "cell_type": "markdown",
   "metadata": {},
   "source": [
    "### Train the model"
   ]
  },
  {
   "cell_type": "code",
   "execution_count": null,
   "metadata": {},
   "outputs": [],
   "source": [
    "# Multi-class classification problem\n",
    "cmodel.compile(optimizer='adam',\n",
    "               loss='categorical_crossentropy',\n",
    "               metrics=['accuracy'])"
   ]
  },
  {
   "cell_type": "code",
   "execution_count": null,
   "metadata": {},
   "outputs": [],
   "source": [
    "# Train the model, iterating on the data in batches of 32 samples\n",
    "cmodel.fit(data, one_hot_labels, epochs=10, batch_size=32, verbose=1)"
   ]
  },
  {
   "cell_type": "markdown",
   "metadata": {},
   "source": [
    "### Evaluate performance on some samples"
   ]
  },
  {
   "cell_type": "code",
   "execution_count": null,
   "metadata": {},
   "outputs": [],
   "source": [
    "N = 10\n",
    "sample_indexes = random.sample(range(len(data)), N)\n",
    "sample_gimages = np.array([simagesg[i] for i in sample_indexes])\n",
    "sample_cimages = np.array([simages[i] for i in sample_indexes])\n",
    "sample_labels = np.array([labels[i] for i in sample_indexes])\n",
    "\n",
    "# Run the \"correct_pred\" operation\n",
    "gpredicted = predict_classes(gmodel, sample_gimages)\n",
    "cpredicted = predict_classes(cmodel, sample_cimages)\n",
    "\n",
    "gerror, = np.nonzero(sample_labels - gpredicted)\n",
    "cerror, = np.nonzero(sample_labels - cpredicted)\n",
    "\n",
    "gaccuracy = 100*(1-gerror.size/N)\n",
    "caccuracy = 100*(1-cerror.size/N)\n",
    "    \n",
    "# Print the real and predicted labels\n",
    "print(\"Truth:\", sample_labels)\n",
    "print(\"GS:   \", gpredicted, \"accuracy = {}%\".format(gaccuracy))\n",
    "print(\"Color:\", cpredicted, \"accuracy = {}%\".format(caccuracy))"
   ]
  },
  {
   "cell_type": "code",
   "execution_count": null,
   "metadata": {
    "scrolled": true
   },
   "outputs": [],
   "source": [
    "# Display the predictions and the ground truth visually.\n",
    "#fig = plt.figure(figsize=(10, 10))\n",
    "fig = plt.figure(figsize=(28,28))\n",
    "j = 1\n",
    "for i in range(len(sample_images)):\n",
    "    \n",
    "    truth = sample_labels[i]\n",
    "    gprediction = gpredicted[i]\n",
    "    cprediction = cpredicted[i]\n",
    "    \n",
    "    predicted_gimage = simagesg[labels.index(gprediction)]\n",
    "    predicted_cimage = simages[labels.index(cprediction)]\n",
    "\n",
    "    plt.subplot(10, 3, j)\n",
    "    plt.axis('off')\n",
    "    plt.text(40, 10, \"Truth:            {}\".format(truth), \n",
    "             fontsize=12)\n",
    "    color='green' if truth == gprediction else 'red'\n",
    "    plt.text(40, 15, \"GS Prediction:    {}\".format(gprediction), \n",
    "             fontsize=12, color=color)\n",
    "    color='green' if truth == cprediction else 'red'\n",
    "    plt.text(40, 20, \"Color Prediction: {}\".format(cprediction), \n",
    "             fontsize=12, color=color)\n",
    "    plt.imshow(sample_cimages[i])\n",
    "\n",
    "    j += 1\n",
    "    \n",
    "    plt.subplot(10, 3, j)\n",
    "    plt.axis('off')\n",
    "    plt.imshow(predicted_gimage, cmap=\"gray\")\n",
    "\n",
    "    j += 1\n",
    "\n",
    "    plt.subplot(10, 3, j)\n",
    "    plt.axis('off')\n",
    "    plt.imshow(predicted_cimage)\n",
    "\n",
    "    j += 1\n",
    "    \n",
    "# Show the plot\n",
    "plt.show()"
   ]
  },
  {
   "cell_type": "markdown",
   "metadata": {},
   "source": [
    "### Can *features* improve the results?\n",
    "You will now add various layers to the neural network in a way similar to what is done in *deep-learning*."
   ]
  },
  {
   "cell_type": "code",
   "execution_count": null,
   "metadata": {},
   "outputs": [],
   "source": [
    "# Convert images to numpy arrays\n",
    "data = np.array(simages)\n",
    "\n",
    "data.shape"
   ]
  },
  {
   "cell_type": "code",
   "execution_count": null,
   "metadata": {},
   "outputs": [],
   "source": [
    "from keras.layers import Flatten, Conv2D, MaxPooling2D\n",
    "\n",
    "fmodel = Sequential()\n",
    "\n",
    "# Convolutional neural network to extract features\n",
    "fmodel.add(Conv2D(32, (3, 3), input_shape=data.shape[1:], activation='relu'))\n",
    "fmodel.add(MaxPooling2D(pool_size=(2, 2)))\n",
    "\n",
    "fmodel.add(Conv2D(32, (3, 3), activation='relu'))\n",
    "fmodel.add(MaxPooling2D(pool_size=(2, 2)))\n",
    "\n",
    "fmodel.add(Conv2D(32, (3, 3), activation='relu'))\n",
    "fmodel.add(MaxPooling2D(pool_size=(2, 2)))\n",
    "\n",
    "# Converts our 3D feature maps to 1D feature vectors\n",
    "fmodel.add(Flatten())\n",
    "\n",
    "# Classifier network\n",
    "fmodel.add(Dense(62, activation='relu'))\n",
    "fmodel.add(Dropout(0.5))\n",
    "fmodel.add(Dense(62, activation='softmax'))"
   ]
  },
  {
   "cell_type": "markdown",
   "metadata": {},
   "source": [
    "### Train the model"
   ]
  },
  {
   "cell_type": "code",
   "execution_count": null,
   "metadata": {},
   "outputs": [],
   "source": [
    "# Multi-class classification problem\n",
    "fmodel.compile(optimizer='adam',\n",
    "               loss='categorical_crossentropy',\n",
    "               metrics=['accuracy'])"
   ]
  },
  {
   "cell_type": "code",
   "execution_count": null,
   "metadata": {},
   "outputs": [],
   "source": [
    "# Train the model, iterating on the data in batches of 32 samples\n",
    "fmodel.fit(data, one_hot_labels, epochs=10, batch_size=32, verbose=1)"
   ]
  },
  {
   "cell_type": "markdown",
   "metadata": {},
   "source": [
    "### Evaluate performance on some samples"
   ]
  },
  {
   "cell_type": "code",
   "execution_count": null,
   "metadata": {},
   "outputs": [],
   "source": [
    "sample_indexes = random.sample(range(len(simages)), 10)\n",
    "sample_gimages = np.array([simagesg[i] for i in sample_indexes])\n",
    "sample_cimages = np.array([simages[i] for i in sample_indexes])\n",
    "sample_labels = np.array([labels[i] for i in sample_indexes])\n",
    "\n",
    "# Run the \"correct_pred\" operation\n",
    "gpredicted = predict_classes(gmodel, sample_gimages)\n",
    "cpredicted = predict_classes(cmodel, sample_cimages)\n",
    "fpredicted = predict_classes(fmodel, sample_cimages)\n",
    "\n",
    "gerror, = np.nonzero(sample_labels - gpredicted)\n",
    "cerror, = np.nonzero(sample_labels - cpredicted)\n",
    "ferror, = np.nonzero(sample_labels - fpredicted)\n",
    "\n",
    "gaccuracy = 100*(1-gerror.size/N)\n",
    "caccuracy = 100*(1-cerror.size/N)\n",
    "faccuracy = 100*(1-ferror.size/N)\n",
    "    \n",
    "# Print the real and predicted labels\n",
    "print(\"Truth:\", sample_labels)\n",
    "print(\"GS:   \", gpredicted, \"accuracy = {}%\".format(gaccuracy))\n",
    "print(\"Color:\", cpredicted, \"accuracy = {}%\".format(caccuracy))\n",
    "print(\"DL:   \", fpredicted, \"accuracy = {}%\".format(faccuracy))"
   ]
  },
  {
   "cell_type": "code",
   "execution_count": null,
   "metadata": {
    "scrolled": false
   },
   "outputs": [],
   "source": [
    "# Display the predictions and the ground truth visually.\n",
    "#fig = plt.figure(figsize=(10, 10))\n",
    "fig = plt.figure(figsize=(28,28))\n",
    "j = 1\n",
    "for i in range(len(sample_images)):\n",
    "    \n",
    "    truth = sample_labels[i]\n",
    "    gprediction = gpredicted[i]\n",
    "    cprediction = cpredicted[i]\n",
    "    fprediction = fpredicted[i]\n",
    "    \n",
    "    predicted_gimage = simagesg[labels.index(gprediction)]\n",
    "    predicted_cimage = simages[labels.index(cprediction)]\n",
    "    predicted_fimage = simages[labels.index(fprediction)]\n",
    "\n",
    "    plt.subplot(10, 4, j)\n",
    "    plt.axis('off')\n",
    "    plt.text(40, 10, \"Truth:            {}\".format(truth), \n",
    "             fontsize=12)\n",
    "    color='green' if truth == gprediction else 'red'\n",
    "    plt.text(40, 15, \"GS Prediction:    {}\".format(gprediction), \n",
    "             fontsize=12, color=color)\n",
    "    color='green' if truth == cprediction else 'red'\n",
    "    plt.text(40, 20, \"Color Prediction: {}\".format(cprediction), \n",
    "             fontsize=12, color=color)\n",
    "    color='green' if truth == fprediction else 'red'\n",
    "    plt.text(40, 25, \"DL Prediction:    {}\".format(fprediction), \n",
    "             fontsize=12, color=color)\n",
    "    plt.imshow(sample_cimages[i])\n",
    "\n",
    "    j += 1\n",
    "    \n",
    "    plt.subplot(10, 4, j)\n",
    "    plt.axis('off')\n",
    "    plt.imshow(predicted_gimage, cmap=\"gray\")\n",
    "\n",
    "    j += 1\n",
    "\n",
    "    plt.subplot(10, 4, j)\n",
    "    plt.axis('off')\n",
    "    plt.imshow(predicted_cimage)\n",
    "\n",
    "    j += 1\n",
    "\n",
    "    plt.subplot(10, 4, j)\n",
    "    plt.axis('off')\n",
    "    plt.imshow(predicted_fimage)\n",
    "\n",
    "    j += 1\n",
    "    \n",
    "# Show the plot\n",
    "plt.show()"
   ]
  },
  {
   "cell_type": "markdown",
   "metadata": {},
   "source": [
    "The following code provides a crude visualization of what is happening after the first convolutional layer is processed.\n",
    "\n",
    "You can change the index `k` to pick a different layer you would like to visualize."
   ]
  },
  {
   "cell_type": "code",
   "execution_count": null,
   "metadata": {},
   "outputs": [],
   "source": [
    "from keras.models import Model\n",
    "\n",
    "k = 0\n",
    "intermediate_layer_model = Model(inputs=fmodel.input,\n",
    "                                 outputs=fmodel.layers[k].output)\n",
    "intermediate_output = intermediate_layer_model.predict(sample_cimages)\n",
    "print(intermediate_output.shape)"
   ]
  },
  {
   "cell_type": "markdown",
   "metadata": {},
   "source": [
    "Visualize the layers as stacked images:"
   ]
  },
  {
   "cell_type": "code",
   "execution_count": null,
   "metadata": {},
   "outputs": [],
   "source": [
    "import math\n",
    "M = math.floor(intermediate_output.shape[-1]/3)\n",
    "N = len(sample_cimages)\n",
    "#print('M = {}, N = {}'.format(M,N))\n",
    "\n",
    "fig = plt.figure(figsize=(px,px))\n",
    "for i, img in enumerate(sample_cimages):\n",
    "    plt.subplot(N,M+1,i*(M+1)+1)\n",
    "    plt.imshow(img)\n",
    "    plt.axis('off')\n",
    "    for j in range(M):\n",
    "        # print('i = {}, j = {}, i*(M+1)+j+2 = {}'.format(i,j,i*(M+1)+j+2))\n",
    "        plt.subplot(N,M+1,i*(M+1)+j+2)\n",
    "        plt.imshow(intermediate_output[i,:,:,j:j+3])\n",
    "        plt.axis('off')\n",
    "plt.show()"
   ]
  },
  {
   "cell_type": "markdown",
   "metadata": {},
   "source": [
    "Visualize the layers as flattend images:"
   ]
  },
  {
   "cell_type": "code",
   "execution_count": null,
   "metadata": {},
   "outputs": [],
   "source": [
    "K = intermediate_output.shape[3]\n",
    "M = np.prod(intermediate_output.shape[1:3])\n",
    "N = len(sample_cimages)\n",
    "# print('M = {}, N = {}, K = {}'.format(M,N,K))\n",
    "\n",
    "fig = plt.figure(figsize=(px,px))\n",
    "for i, img in enumerate(sample_cimages):\n",
    "    plt.subplot(N,2,i*2+1)\n",
    "    plt.imshow(img)\n",
    "    plt.axis('off')\n",
    "\n",
    "    plt.subplot(N,2,i*2+2)\n",
    "    fimg = np.reshape(intermediate_output[i,:,:,:], [M, K], order = 'C').transpose()\n",
    "    plt.imshow(fimg, cmap='gray')\n",
    "    plt.axis('off')\n",
    "plt.show()"
   ]
  },
  {
   "cell_type": "code",
   "execution_count": null,
   "metadata": {},
   "outputs": [],
   "source": []
  }
 ],
 "metadata": {
  "kernelspec": {
   "display_name": "Python 3",
   "language": "python",
   "name": "python3"
  },
  "language_info": {
   "codemirror_mode": {
    "name": "ipython",
    "version": 3
   },
   "file_extension": ".py",
   "mimetype": "text/x-python",
   "name": "python",
   "nbconvert_exporter": "python",
   "pygments_lexer": "ipython3",
   "version": "3.6.9"
  }
 },
 "nbformat": 4,
 "nbformat_minor": 2
}
